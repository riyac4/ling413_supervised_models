{
 "cells": [
  {
   "cell_type": "code",
   "execution_count": 50,
   "id": "730582aa",
   "metadata": {},
   "outputs": [],
   "source": [
    "import pandas as pd\n",
    "import nltk\n",
    "from nltk.corpus import stopwords\n",
    "from nltk.tokenize import word_tokenize\n",
    "from nltk.stem import PorterStemmer\n",
    "from sklearn.feature_extraction.text import TfidfVectorizer\n",
    "from sklearn.model_selection import train_test_split\n",
    "from sklearn.linear_model import LogisticRegression\n",
    "from sklearn.svm import SVC\n",
    "from sklearn.metrics import classification_report\n",
    "import joblib\n",
    "\n",
    "df = pd.read_csv(\"Womens Clothing E-Commerce Reviews.csv\")\n",
    "\n",
    "df = df[['Review Text', 'Rating']]\n",
    "\n",
    "df.dropna(inplace=True)\n",
    "\n",
    "# Text preprocessing\n",
    "stop_words = set(stopwords.words('english'))\n",
    "stemmer = PorterStemmer()\n",
    "\n",
    "def preprocess_text(text):\n",
    "    text = text.lower() \n",
    "    text = ' '.join([word for word in word_tokenize(text) if word.isalnum()])\n",
    "    text = ' '.join([stemmer.stem(word) for word in word_tokenize(text) if word not in stop_words])\n",
    "    return text\n",
    "\n",
    "df['Cleaned Text'] = df['Review Text'].apply(preprocess_text)\n",
    "\n",
    "# labeling sentiments\n",
    "df['Sentiment'] = df['Rating'].apply(lambda x: 'positive' if x > 3 else 'negative')\n",
    "\n",
    "\n"
   ]
  },
  {
   "cell_type": "code",
   "execution_count": 31,
   "id": "25ab337e",
   "metadata": {},
   "outputs": [
    {
     "name": "stdout",
     "output_type": "stream",
     "text": [
      "              precision    recall  f1-score   support\n",
      "\n",
      "    negative       0.82      0.59      0.69      1045\n",
      "    positive       0.89      0.96      0.92      3484\n",
      "\n",
      "    accuracy                           0.88      4529\n",
      "   macro avg       0.85      0.78      0.81      4529\n",
      "weighted avg       0.87      0.88      0.87      4529\n",
      "\n"
     ]
    }
   ],
   "source": [
    "#Logistic Regression\n",
    "\n",
    "vectorizer = TfidfVectorizer()\n",
    "X = vectorizer.fit_transform(df['Cleaned Text'])\n",
    "y = df['Sentiment']\n",
    "\n",
    "X_train, X_test, y_train, y_test = train_test_split(X, y, test_size=0.2, random_state=42)\n",
    "\n",
    "model = LogisticRegression()\n",
    "model.fit(X_train, y_train)\n",
    "\n",
    "# Prediction\n",
    "y_pred = model.predict(X_test)\n",
    "print(classification_report(y_test, y_pred))\n"
   ]
  },
  {
   "cell_type": "code",
   "execution_count": 51,
   "id": "14abd9e4",
   "metadata": {},
   "outputs": [
    {
     "name": "stdout",
     "output_type": "stream",
     "text": [
      "              precision    recall  f1-score   support\n",
      "\n",
      "    negative       0.78      0.64      0.71      1045\n",
      "    positive       0.90      0.95      0.92      3484\n",
      "\n",
      "    accuracy                           0.88      4529\n",
      "   macro avg       0.84      0.79      0.81      4529\n",
      "weighted avg       0.87      0.88      0.87      4529\n",
      "\n"
     ]
    }
   ],
   "source": [
    "# SVM\n",
    "X = df['Cleaned Text']\n",
    "y = df['Sentiment']\n",
    "\n",
    "X_train, X_test, y_train, y_test = train_test_split(X, y, test_size=0.2, random_state=42)\n",
    "\n",
    "\n",
    "vectorizer = TfidfVectorizer()\n",
    "X_train_vectorized = vectorizer.fit_transform(X_train)\n",
    "X_test_vectorized = vectorizer.transform(X_test)\n",
    "\n",
    "# Train the SVM classifier\n",
    "svm_classifier = SVC(kernel='linear')\n",
    "svm_classifier.fit(X_train_vectorized, y_train)\n",
    "\n",
    "joblib.dump(svm_classifier, \"svm_model.pkl\")\n",
    "joblib.dump(vectorizer, \"tfidf_vectorizer.pkl\")\n",
    "\n",
    "\n",
    "\n",
    "y_pred = svm_classifier.predict(X_test_vectorized)\n",
    "\n",
    "\n",
    "print(classification_report(y_test, y_pred))\n"
   ]
  },
  {
   "cell_type": "code",
   "execution_count": 64,
   "id": "4d24c0b3",
   "metadata": {},
   "outputs": [
    {
     "name": "stdout",
     "output_type": "stream",
     "text": [
      "                                  Title  \\\n",
      "0                                   NaN   \n",
      "1                                   NaN   \n",
      "2               Some major design flaws   \n",
      "3                      My favorite buy!   \n",
      "4                      Flattering shirt   \n",
      "5               Not for the very petite   \n",
      "6                  Cagrcoal shimmer fun   \n",
      "7  Shimmer, surprisingly goes with lots   \n",
      "8                            Flattering   \n",
      "9                     Such a fun dress!   \n",
      "\n",
      "                                              Review  Cons_rating Cloth_class  \\\n",
      "0  Absolutely wonderful - silky and sexy and comf...          4.0   Intimates   \n",
      "1  Love this dress!  it's sooo pretty.  i happene...          5.0     Dresses   \n",
      "2  I had such high hopes for this dress and reall...          3.0     Dresses   \n",
      "3  I love, love, love this jumpsuit. it's fun, fl...          5.0       Pants   \n",
      "4  This shirt is very flattering to all due to th...          5.0     Blouses   \n",
      "5  I love tracy reese dresses, but this one is no...          2.0     Dresses   \n",
      "6  I aded this in my basket at hte last mintue to...          5.0       Knits   \n",
      "7  I ordered this in carbon for store pick up, an...          4.0       Knits   \n",
      "8  I love this dress. i usually get an xs but it ...          5.0     Dresses   \n",
      "9  I'm 5\"5' and 125 lbs. i ordered the s petite t...          5.0     Dresses   \n",
      "\n",
      "   Materials  Construction  Color  Finishing  Durability Predictions  \n",
      "0        0.0           0.0    0.0        1.0         0.0    positive  \n",
      "1        0.0           1.0    0.0        0.0         0.0    positive  \n",
      "2        0.0           0.0    0.0        1.0         0.0    negative  \n",
      "3        0.0           0.0    0.0        0.0         0.0    positive  \n",
      "4        0.0           1.0    0.0        0.0         0.0    positive  \n",
      "5        0.0           1.0    1.0        0.0         0.0    positive  \n",
      "6        0.0           0.0    1.0        0.0         0.0    positive  \n",
      "7        0.0           1.0    1.0        0.0         0.0    positive  \n",
      "8        0.0           1.0    0.0        0.0         0.0    positive  \n",
      "9        0.0           1.0    0.0        0.0         0.0    positive  \n"
     ]
    }
   ],
   "source": [
    "# Appling SVM to amazon_clothing_review data set\n",
    "\n",
    "import pandas as pd\n",
    "import joblib\n",
    "\n",
    "\n",
    "# Load the dataset\n",
    "df = pd.read_csv(\"amazon_clothing_review.csv\")\n",
    "df['Review'].fillna('', inplace=True)\n",
    "\n",
    "\n",
    "# Load the saved SVM model and TF-IDF vectorizer\n",
    "svm_model = joblib.load(\"svm_model.pkl\")\n",
    "tfidf_vectorizer = joblib.load(\"tfidf_vectorizer.pkl\")\n",
    "X_vectorized = tfidf_vectorizer.transform(df['Review'])\n",
    "\n",
    "# Make predictions using the trained SVM model\n",
    "predictions = svm_model.predict(X_vectorized)\n",
    "\n",
    "# Add the predictions to the DataFrame\n",
    "df['Predictions'] = predictions\n",
    "\n",
    "print(df.head(10))\n"
   ]
  },
  {
   "cell_type": "code",
   "execution_count": null,
   "id": "51920e9b",
   "metadata": {},
   "outputs": [],
   "source": []
  }
 ],
 "metadata": {
  "kernelspec": {
   "display_name": "Python 3 (ipykernel)",
   "language": "python",
   "name": "python3"
  },
  "language_info": {
   "codemirror_mode": {
    "name": "ipython",
    "version": 3
   },
   "file_extension": ".py",
   "mimetype": "text/x-python",
   "name": "python",
   "nbconvert_exporter": "python",
   "pygments_lexer": "ipython3",
   "version": "3.9.7"
  }
 },
 "nbformat": 4,
 "nbformat_minor": 5
}
