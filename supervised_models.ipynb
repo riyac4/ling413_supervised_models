{
 "cells": [
  {
   "cell_type": "code",
   "execution_count": 30,
   "id": "9bf95706",
   "metadata": {},
   "outputs": [],
   "source": [
    "import pandas as pd\n",
    "import nltk\n",
    "from nltk.corpus import stopwords\n",
    "from nltk.tokenize import word_tokenize\n",
    "from nltk.stem import PorterStemmer\n",
    "from sklearn.feature_extraction.text import TfidfVectorizer\n",
    "from sklearn.model_selection import train_test_split\n",
    "from sklearn.linear_model import LogisticRegression\n",
    "from sklearn.svm import SVC\n",
    "from sklearn.metrics import classification_report\n",
    "\n",
    "df = pd.read_csv(\"Womens Clothing E-Commerce Reviews.csv\")\n",
    "\n",
    "df = df[['Review Text', 'Rating']]\n",
    "\n",
    "df.dropna(inplace=True)\n",
    "\n",
    "# Text preprocessing\n",
    "stop_words = set(stopwords.words('english'))\n",
    "stemmer = PorterStemmer()\n",
    "\n",
    "def preprocess_text(text):\n",
    "    text = text.lower() \n",
    "    text = ' '.join([word for word in word_tokenize(text) if word.isalnum()])\n",
    "    text = ' '.join([stemmer.stem(word) for word in word_tokenize(text) if word not in stop_words])\n",
    "    return text\n",
    "\n",
    "df['Cleaned Text'] = df['Review Text'].apply(preprocess_text)\n",
    "\n",
    "# labeling sentiments\n",
    "df['Sentiment'] = df['Rating'].apply(lambda x: 'positive' if x > 3 else 'negative')\n",
    "\n",
    "\n"
   ]
  },
  {
   "cell_type": "code",
   "execution_count": 31,
   "id": "5b9caff7",
   "metadata": {},
   "outputs": [
    {
     "name": "stdout",
     "output_type": "stream",
     "text": [
      "              precision    recall  f1-score   support\n",
      "\n",
      "    negative       0.82      0.59      0.69      1045\n",
      "    positive       0.89      0.96      0.92      3484\n",
      "\n",
      "    accuracy                           0.88      4529\n",
      "   macro avg       0.85      0.78      0.81      4529\n",
      "weighted avg       0.87      0.88      0.87      4529\n",
      "\n"
     ]
    }
   ],
   "source": [
    "#Logistic Regression\n",
    "\n",
    "vectorizer = TfidfVectorizer()\n",
    "X = vectorizer.fit_transform(df['Cleaned Text'])\n",
    "y = df['Sentiment']\n",
    "\n",
    "X_train, X_test, y_train, y_test = train_test_split(X, y, test_size=0.2, random_state=42)\n",
    "\n",
    "model = LogisticRegression()\n",
    "model.fit(X_train, y_train)\n",
    "\n",
    "# Prediction\n",
    "y_pred = model.predict(X_test)\n",
    "print(classification_report(y_test, y_pred))\n"
   ]
  },
  {
   "cell_type": "code",
   "execution_count": 32,
   "id": "00203585",
   "metadata": {},
   "outputs": [
    {
     "name": "stdout",
     "output_type": "stream",
     "text": [
      "              precision    recall  f1-score   support\n",
      "\n",
      "    negative       0.78      0.64      0.71      1045\n",
      "    positive       0.90      0.95      0.92      3484\n",
      "\n",
      "    accuracy                           0.88      4529\n",
      "   macro avg       0.84      0.79      0.81      4529\n",
      "weighted avg       0.87      0.88      0.87      4529\n",
      "\n"
     ]
    }
   ],
   "source": [
    "# SVM\n",
    "X = df['Cleaned Text']\n",
    "y = df['Sentiment']\n",
    "\n",
    "X_train, X_test, y_train, y_test = train_test_split(X, y, test_size=0.2, random_state=42)\n",
    "\n",
    "\n",
    "vectorizer = TfidfVectorizer()\n",
    "X_train_vectorized = vectorizer.fit_transform(X_train)\n",
    "X_test_vectorized = vectorizer.transform(X_test)\n",
    "\n",
    "# Train the SVM classifier\n",
    "svm_classifier = SVC(kernel='linear')\n",
    "svm_classifier.fit(X_train_vectorized, y_train)\n",
    "\n",
    "\n",
    "y_pred = svm_classifier.predict(X_test_vectorized)\n",
    "print(classification_report(y_test, y_pred))\n"
   ]
  },
  {
   "cell_type": "code",
   "execution_count": 33,
   "id": "f6a50acf",
   "metadata": {},
   "outputs": [
    {
     "name": "stdout",
     "output_type": "stream",
     "text": [
      "              precision    recall  f1-score   support\n",
      "\n",
      "    negative       0.85      0.75      0.80      1057\n",
      "    positive       0.92      0.95      0.93      3042\n",
      "\n",
      "    accuracy                           0.90      4099\n",
      "   macro avg       0.88      0.85      0.87      4099\n",
      "weighted avg       0.90      0.90      0.90      4099\n",
      "\n"
     ]
    }
   ],
   "source": [
    "# Better preforming model (SVM on a 2nd dataset)\n",
    "# Trip Advisor Hotels\n",
    "\n",
    "df = pd.read_csv(\"tripadvisor_hotel_reviews.csv\")\n",
    "\n",
    "df = df[['Review', 'Rating']]\n",
    "\n",
    "df.dropna(inplace=True)\n",
    "\n",
    "# Text preprocessing\n",
    "# nltk.download('stopwords')\n",
    "# nltk.download('punkt')\n",
    "stop_words = set(stopwords.words('english'))\n",
    "stemmer = PorterStemmer()\n",
    "\n",
    "def preprocess_text(text):\n",
    "    text = text.lower() \n",
    "    text = ' '.join([word for word in word_tokenize(text) if word.isalnum()])\n",
    "    text = ' '.join([stemmer.stem(word) for word in word_tokenize(text) if word not in stop_words])\n",
    "    return text\n",
    "\n",
    "df['Cleaned Text'] = df['Review'].apply(preprocess_text)\n",
    "\n",
    "# labeling sentiments\n",
    "df['Sentiment'] = df['Rating'].apply(lambda x: 'positive' if x > 3 else 'negative')\n",
    "\n",
    "\n",
    "# SVM\n",
    "X = df['Cleaned Text']\n",
    "y = df['Sentiment']\n",
    "\n",
    "X_train, X_test, y_train, y_test = train_test_split(X, y, test_size=0.2, random_state=42)\n",
    "\n",
    "\n",
    "vectorizer = TfidfVectorizer()\n",
    "X_train_vectorized = vectorizer.fit_transform(X_train)\n",
    "X_test_vectorized = vectorizer.transform(X_test)\n",
    "\n",
    "# Train the SVM classifier\n",
    "svm_classifier = SVC(kernel='linear')\n",
    "svm_classifier.fit(X_train_vectorized, y_train)\n",
    "\n",
    "\n",
    "y_pred = svm_classifier.predict(X_test_vectorized)\n",
    "print(classification_report(y_test, y_pred))\n"
   ]
  },
  {
   "cell_type": "code",
   "execution_count": null,
   "id": "d1c12e31",
   "metadata": {},
   "outputs": [],
   "source": []
  }
 ],
 "metadata": {
  "kernelspec": {
   "display_name": "Python 3 (ipykernel)",
   "language": "python",
   "name": "python3"
  },
  "language_info": {
   "codemirror_mode": {
    "name": "ipython",
    "version": 3
   },
   "file_extension": ".py",
   "mimetype": "text/x-python",
   "name": "python",
   "nbconvert_exporter": "python",
   "pygments_lexer": "ipython3",
   "version": "3.9.7"
  }
 },
 "nbformat": 4,
 "nbformat_minor": 5
}
